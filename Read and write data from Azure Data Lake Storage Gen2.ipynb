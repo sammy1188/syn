{
  "cells": [
    {
      "cell_type": "markdown",
      "source": [
        "# Access data on Azure Data Lake Storage Gen2 (ADLS Gen2) with Synapse Spark\n",
        "\n",
        "Azure Data Lake Storage Gen2 (ADLS Gen2) is used as the storage account associated with a Synapse workspace. A synapse workspace can have a default ADLS Gen2 storage account and additional linked storage accounts. \n",
        "\n",
        "You can access data on ADLS Gen2 with Synapse Spark via following URL:\n",
        "    \n",
        "    abfss://<container_name>@<storage_account_name>.dfs.core.windows.net/<path>\n",
        "\n",
        "This notebook provides examples of how to read data from ADLS Gen2 account into a Spark context and how to write the output of Spark jobs directly into an ADLS Gen2 location.\n",
        "\n",
        "## Pre-requisites\n",
        "Synapse leverage AAD pass-through to access any ADLS Gen2 account (or folder) to which you have a **Blob Storage Contributor** permission. No credentials or access token is required. "
      ],
      "metadata": {}
    },
    {
      "cell_type": "markdown",
      "source": [
        "## Load a sample data\n",
        "\n",
        "Let's first load the [public holidays](https://azure.microsoft.com/en-us/services/open-datasets/catalog/public-holidays/) of last 6 months from Azure Open datasets as a sample."
      ],
      "metadata": {}
    },
    {
      "cell_type": "code",
      "source": [
        "from azureml.opendatasets import PublicHolidays\n",
        "\n",
        "from datetime import datetime\n",
        "from dateutil import parser\n",
        "from dateutil.relativedelta import relativedelta\n",
        "\n",
        "\n",
        "end_date = datetime.today()\n",
        "start_date = datetime.today() - relativedelta(months=6)\n",
        "hol = PublicHolidays(start_date=start_date, end_date=end_date)\n",
        "hol_df = hol.to_spark_dataframe()"
      ],
      "outputs": [
        {
          "output_type": "display_data",
          "data": {
            "application/vnd.livy.statement-meta+json": {
              "spark_pool": "SampleSpark",
              "session_id": 18,
              "statement_id": 1,
              "state": "finished",
              "livy_statement_state": "available",
              "queued_time": "2021-05-26T02:55:04.2666441Z",
              "execution_start_time": "2021-05-26T02:55:50.9879439Z",
              "execution_finish_time": "2021-05-26T02:56:17.8784708Z"
            },
            "text/plain": "StatementMeta(SampleSpark, 18, 1, Finished, Available)"
          },
          "metadata": {}
        },
        {
          "output_type": "stream",
          "name": "stdout",
          "text": []
        }
      ],
      "execution_count": 1,
      "metadata": {}
    },
    {
      "cell_type": "code",
      "source": [
        "# Display 5 rows\n",
        "hol_df.show(5, truncate = False)"
      ],
      "outputs": [
        {
          "output_type": "display_data",
          "data": {
            "application/vnd.livy.statement-meta+json": {
              "spark_pool": "SampleSpark",
              "session_id": 18,
              "statement_id": 3,
              "state": "finished",
              "livy_statement_state": "available",
              "queued_time": "2021-05-26T02:56:39.5832249Z",
              "execution_start_time": "2021-05-26T02:56:39.6863381Z",
              "execution_finish_time": "2021-05-26T02:56:41.7392169Z"
            },
            "text/plain": "StatementMeta(SampleSpark, 18, 3, Finished, Available)"
          },
          "metadata": {}
        },
        {
          "output_type": "stream",
          "name": "stdout",
          "text": [
            "+---------------+----------------------------+----------------------------+-------------+-----------------+-------------------+\n",
            "|countryOrRegion|holidayName                 |normalizeHolidayName        |isPaidTimeOff|countryRegionCode|date               |\n",
            "+---------------+----------------------------+----------------------------+-------------+-----------------+-------------------+\n",
            "|Norway         |Søndag                      |Søndag                      |null         |NO               |2020-11-29 00:00:00|\n",
            "|Sweden         |Söndag                      |Söndag                      |null         |SE               |2020-11-29 00:00:00|\n",
            "|Scotland       |St. Andrew's Day            |St. Andrew's Day            |null         |null             |2020-11-30 00:00:00|\n",
            "|United Kingdom |St. Andrew's Day [Scotland] |St. Andrew's Day            |false        |GB               |2020-11-30 00:00:00|\n",
            "|Portugal       |Restauração da Independência|Restauração da Independência|null         |PT               |2020-12-01 00:00:00|\n",
            "+---------------+----------------------------+----------------------------+-------------+-----------------+-------------------+\n",
            "only showing top 5 rows"
          ]
        }
      ],
      "execution_count": 3,
      "metadata": {}
    },
    {
      "cell_type": "markdown",
      "source": [
        "## Write data to the default ADLS Gen2 storage\n",
        "\n",
        "We are going to write the spark dateframe to your default ADLS Gen2 storage account.\n"
      ],
      "metadata": {}
    },
    {
      "cell_type": "code",
      "source": [
        "from pyspark.sql import SparkSession\n",
        "from pyspark.sql.types import *\n",
        "\n",
        "# Primary storage info\n",
        "account_name = 'synstorest' # fill in your primary account name\n",
        "container_name = 'syn' # fill in your container name\n",
        "relative_path = 'University/' # fill in your relative folder path\n",
        "\n",
        "adls_path = 'abfss://%s@%s.dfs.core.windows.net/%s' % (container_name, account_name, relative_path)\n",
        "print('Primary storage account path: ' + adls_path)"
      ],
      "outputs": [
        {
          "output_type": "display_data",
          "data": {
            "application/vnd.livy.statement-meta+json": {
              "spark_pool": "SampleSpark",
              "session_id": 18,
              "statement_id": 9,
              "state": "finished",
              "livy_statement_state": "available",
              "queued_time": "2021-05-26T03:01:17.3237453Z",
              "execution_start_time": "2021-05-26T03:01:17.4309625Z",
              "execution_finish_time": "2021-05-26T03:01:19.5019126Z"
            },
            "text/plain": "StatementMeta(SampleSpark, 18, 9, Finished, Available)"
          },
          "metadata": {}
        },
        {
          "output_type": "stream",
          "name": "stdout",
          "text": [
            "Primary storage account path: abfss://syn@synstorest.dfs.core.windows.net/University/"
          ]
        }
      ],
      "execution_count": 9,
      "metadata": {}
    },
    {
      "cell_type": "markdown",
      "source": [
        "### Save a dataframe as Parquet, JSON or CSV\n",
        "If you have a dataframe, you can save it to Parquet or JSON with the .write.parquet(), .write.json() and .write.csv() methods respectively.\n",
        "\n",
        "Dataframes can be saved in any format, regardless of the input format.\n"
      ],
      "metadata": {}
    },
    {
      "cell_type": "code",
      "source": [
        "parquet_path = adls_path + 'holiday.parquet'\n",
        "json_path = adls_path + 'holiday.json'\n",
        "csv_path = adls_path + 'holiday.csv'\n",
        "print('parquet file path: ' + parquet_path)\n",
        "print('json file path： ' + json_path)\n",
        "print('csv file path: ' + csv_path)"
      ],
      "outputs": [
        {
          "output_type": "display_data",
          "data": {
            "application/vnd.livy.statement-meta+json": {
              "spark_pool": "SampleSpark",
              "session_id": 18,
              "statement_id": 10,
              "state": "finished",
              "livy_statement_state": "available",
              "queued_time": "2021-05-26T03:01:23.8490418Z",
              "execution_start_time": "2021-05-26T03:01:24.0125703Z",
              "execution_finish_time": "2021-05-26T03:01:26.0707737Z"
            },
            "text/plain": "StatementMeta(SampleSpark, 18, 10, Finished, Available)"
          },
          "metadata": {}
        },
        {
          "output_type": "stream",
          "name": "stdout",
          "text": [
            "parquet file path: abfss://syn@synstorest.dfs.core.windows.net/University/holiday.parquet\n",
            "json file path： abfss://syn@synstorest.dfs.core.windows.net/University/holiday.json\n",
            "csv file path: abfss://syn@synstorest.dfs.core.windows.net/University/holiday.csv"
          ]
        }
      ],
      "execution_count": 10,
      "metadata": {}
    },
    {
      "cell_type": "code",
      "source": [
        "hol_df.write.parquet(parquet_path, mode = 'overwrite')\n",
        "hol_df.write.json(json_path, mode = 'overwrite')\n",
        "hol_df.write.csv(csv_path, mode = 'overwrite', header = 'true')"
      ],
      "outputs": [
        {
          "output_type": "display_data",
          "data": {
            "application/vnd.livy.statement-meta+json": {
              "spark_pool": "SampleSpark",
              "session_id": 18,
              "statement_id": 11,
              "state": "finished",
              "livy_statement_state": "available",
              "queued_time": "2021-05-26T03:01:36.2235924Z",
              "execution_start_time": "2021-05-26T03:01:36.3344853Z",
              "execution_finish_time": "2021-05-26T03:01:50.7516698Z"
            },
            "text/plain": "StatementMeta(SampleSpark, 18, 11, Finished, Available)"
          },
          "metadata": {}
        },
        {
          "output_type": "stream",
          "name": "stdout",
          "text": []
        }
      ],
      "execution_count": 11,
      "metadata": {}
    },
    {
      "cell_type": "markdown",
      "source": [
        "### Save a dataframe as text files\n",
        "If you have a dataframe that you want ot save as text file, you must first covert it to an RDD and then save that RDD as a text file.\n"
      ],
      "metadata": {}
    },
    {
      "cell_type": "code",
      "source": [
        "# Define the text file path\n",
        "text_path = adls_path + 'holiday.txt'\n",
        "print('text file path: ' + text_path)"
      ],
      "outputs": [
        {
          "output_type": "display_data",
          "data": {
            "application/vnd.livy.statement-meta+json": {
              "spark_pool": "SampleSpark",
              "session_id": 18,
              "statement_id": 12,
              "state": "finished",
              "livy_statement_state": "available",
              "queued_time": "2021-05-26T03:02:28.0337333Z",
              "execution_start_time": "2021-05-26T03:02:28.1755565Z",
              "execution_finish_time": "2021-05-26T03:02:30.4555828Z"
            },
            "text/plain": "StatementMeta(SampleSpark, 18, 12, Finished, Available)"
          },
          "metadata": {}
        },
        {
          "output_type": "stream",
          "name": "stdout",
          "text": [
            "text file path: abfss://syn@synstorest.dfs.core.windows.net/University/holiday.txt"
          ]
        }
      ],
      "execution_count": 12,
      "metadata": {}
    },
    {
      "cell_type": "code",
      "source": [
        "# Covert spark dataframe into RDD \n",
        "hol_RDD = hol_df.rdd\n",
        "type(hol_RDD)"
      ],
      "outputs": [
        {
          "output_type": "display_data",
          "data": {
            "application/vnd.livy.statement-meta+json": {
              "spark_pool": "SampleSpark",
              "session_id": 18,
              "statement_id": 13,
              "state": "finished",
              "livy_statement_state": "available",
              "queued_time": "2021-05-26T03:02:47.8749551Z",
              "execution_start_time": "2021-05-26T03:02:48.0439863Z",
              "execution_finish_time": "2021-05-26T03:02:50.0996786Z"
            },
            "text/plain": "StatementMeta(SampleSpark, 18, 13, Finished, Available)"
          },
          "metadata": {}
        },
        {
          "output_type": "stream",
          "name": "stdout",
          "text": [
            "<class 'pyspark.rdd.RDD'>"
          ]
        }
      ],
      "execution_count": 13,
      "metadata": {}
    },
    {
      "cell_type": "markdown",
      "source": [
        "If you have an RDD, you can convert it to a text file like the following:\n"
      ],
      "metadata": {}
    },
    {
      "cell_type": "code",
      "source": [
        " # Save RDD as text file\n",
        "hol_RDD.saveAsTextFile(text_path)"
      ],
      "outputs": [
        {
          "output_type": "display_data",
          "data": {
            "application/vnd.livy.statement-meta+json": {
              "spark_pool": "SampleSpark",
              "session_id": 18,
              "statement_id": 14,
              "state": "finished",
              "livy_statement_state": "available",
              "queued_time": "2021-05-26T03:02:51.5358805Z",
              "execution_start_time": "2021-05-26T03:02:51.6423333Z",
              "execution_finish_time": "2021-05-26T03:02:55.7684298Z"
            },
            "text/plain": "StatementMeta(SampleSpark, 18, 14, Finished, Available)"
          },
          "metadata": {}
        },
        {
          "output_type": "stream",
          "name": "stdout",
          "text": []
        }
      ],
      "execution_count": 14,
      "metadata": {}
    },
    {
      "cell_type": "markdown",
      "source": [
        "# Read data from the default ADLS Gen2 storage\n"
      ],
      "metadata": {}
    },
    {
      "cell_type": "markdown",
      "source": [
        "### Create a dataframe from parquet files\n"
      ],
      "metadata": {}
    },
    {
      "cell_type": "code",
      "source": [
        "df_parquet = spark.read.parquet(parquet_path)"
      ],
      "outputs": [
        {
          "output_type": "display_data",
          "data": {
            "application/vnd.livy.statement-meta+json": {
              "spark_pool": "SampleSpark",
              "session_id": 18,
              "statement_id": 15,
              "state": "finished",
              "livy_statement_state": "available",
              "queued_time": "2021-05-26T03:03:04.9315936Z",
              "execution_start_time": "2021-05-26T03:03:05.0371101Z",
              "execution_finish_time": "2021-05-26T03:03:07.0957983Z"
            },
            "text/plain": "StatementMeta(SampleSpark, 18, 15, Finished, Available)"
          },
          "metadata": {}
        },
        {
          "output_type": "stream",
          "name": "stdout",
          "text": []
        }
      ],
      "execution_count": 15,
      "metadata": {}
    },
    {
      "cell_type": "markdown",
      "source": [
        "### Create a dataframe from JSON files\n"
      ],
      "metadata": {}
    },
    {
      "cell_type": "code",
      "source": [
        "df_json = spark.read.json(json_path)\r\n",
        "df_json.show()"
      ],
      "outputs": [
        {
          "output_type": "display_data",
          "data": {
            "application/vnd.livy.statement-meta+json": {
              "spark_pool": "SampleSpark",
              "session_id": 18,
              "statement_id": 17,
              "state": "finished",
              "livy_statement_state": "available",
              "queued_time": "2021-05-26T03:03:50.9750951Z",
              "execution_start_time": "2021-05-26T03:03:51.0997924Z",
              "execution_finish_time": "2021-05-26T03:04:01.4341407Z"
            },
            "text/plain": "StatementMeta(SampleSpark, 18, 17, Finished, Available)"
          },
          "metadata": {}
        },
        {
          "output_type": "stream",
          "name": "stdout",
          "text": [
            "+---------------+-----------------+--------------------+--------------------+-------------+--------------------+\n",
            "|countryOrRegion|countryRegionCode|                date|         holidayName|isPaidTimeOff|normalizeHolidayName|\n",
            "+---------------+-----------------+--------------------+--------------------+-------------+--------------------+\n",
            "|         Norway|               NO|2020-11-29T00:00:...|              Søndag|         null|              Søndag|\n",
            "|         Sweden|               SE|2020-11-29T00:00:...|              Söndag|         null|              Söndag|\n",
            "|       Scotland|             null|2020-11-30T00:00:...|    St. Andrew's Day|         null|    St. Andrew's Day|\n",
            "| United Kingdom|               GB|2020-11-30T00:00:...|St. Andrew's Day ...|        false|    St. Andrew's Day|\n",
            "|       Portugal|               PT|2020-12-01T00:00:...|Restauração da In...|         null|Restauração da In...|\n",
            "|        Finland|               FI|2020-12-06T00:00:...|    Itsenäisyyspäivä|         null|    Itsenäisyyspäivä|\n",
            "|         Norway|               NO|2020-12-06T00:00:...|              Søndag|         null|              Søndag|\n",
            "|          Spain|               ES|2020-12-06T00:00:...|Día de la constit...|         null|Día de la constit...|\n",
            "|         Sweden|               SE|2020-12-06T00:00:...|              Söndag|         null|              Söndag|\n",
            "|      Argentina|               AR|2020-12-08T00:00:...|La Inmaculada Con...|         null|La Inmaculada Con...|\n",
            "|        Austria|               AT|2020-12-08T00:00:...|    Mariä Empfängnis|         null|    Mariä Empfängnis|\n",
            "|       Colombia|               CO|2020-12-08T00:00:...|La Inmaculada Con...|         null|La Inmaculada Con...|\n",
            "|          Italy|               IT|2020-12-08T00:00:...|Immacolata Concez...|         null|Immacolata Concez...|\n",
            "|       Portugal|               PT|2020-12-08T00:00:...| Imaculada Conceição|         null| Imaculada Conceição|\n",
            "|          Spain|               ES|2020-12-08T00:00:...|La Inmaculada Con...|         null|La Inmaculada Con...|\n",
            "|         Norway|               NO|2020-12-13T00:00:...|              Søndag|         null|              Søndag|\n",
            "|         Sweden|               SE|2020-12-13T00:00:...|              Söndag|         null|              Söndag|\n",
            "|   South Africa|               ZA|2020-12-16T00:00:...|Day of Reconcilia...|         null|Day of Reconcilia...|\n",
            "|         Norway|               NO|2020-12-20T00:00:...|              Søndag|         null|              Søndag|\n",
            "|         Sweden|               SE|2020-12-20T00:00:...|              Söndag|         null|              Söndag|\n",
            "+---------------+-----------------+--------------------+--------------------+-------------+--------------------+\n",
            "only showing top 20 rows"
          ]
        }
      ],
      "execution_count": 17,
      "metadata": {}
    },
    {
      "cell_type": "markdown",
      "source": [
        "### Create a dataframe from CSV files\n"
      ],
      "metadata": {}
    },
    {
      "cell_type": "code",
      "source": [
        "df_csv = spark.read.csv(csv_path, header = 'true')\r\n",
        "df_csv.show()"
      ],
      "outputs": [
        {
          "output_type": "display_data",
          "data": {
            "application/vnd.livy.statement-meta+json": {
              "spark_pool": "SampleSpark",
              "session_id": 18,
              "statement_id": 18,
              "state": "finished",
              "livy_statement_state": "available",
              "queued_time": "2021-05-26T03:04:05.3914373Z",
              "execution_start_time": "2021-05-26T03:04:05.5010704Z",
              "execution_finish_time": "2021-05-26T03:04:07.5607662Z"
            },
            "text/plain": "StatementMeta(SampleSpark, 18, 18, Finished, Available)"
          },
          "metadata": {}
        },
        {
          "output_type": "stream",
          "name": "stdout",
          "text": [
            "+---------------+--------------------+--------------------+-------------+-----------------+--------------------+\n",
            "|countryOrRegion|         holidayName|normalizeHolidayName|isPaidTimeOff|countryRegionCode|                date|\n",
            "+---------------+--------------------+--------------------+-------------+-----------------+--------------------+\n",
            "|         Norway|              Søndag|              Søndag|         null|               NO|2020-11-29T00:00:...|\n",
            "|         Sweden|              Söndag|              Söndag|         null|               SE|2020-11-29T00:00:...|\n",
            "|       Scotland|    St. Andrew's Day|    St. Andrew's Day|         null|             null|2020-11-30T00:00:...|\n",
            "| United Kingdom|St. Andrew's Day ...|    St. Andrew's Day|        false|               GB|2020-11-30T00:00:...|\n",
            "|       Portugal|Restauração da In...|Restauração da In...|         null|               PT|2020-12-01T00:00:...|\n",
            "|        Finland|    Itsenäisyyspäivä|    Itsenäisyyspäivä|         null|               FI|2020-12-06T00:00:...|\n",
            "|         Norway|              Søndag|              Søndag|         null|               NO|2020-12-06T00:00:...|\n",
            "|          Spain|Día de la constit...|Día de la constit...|         null|               ES|2020-12-06T00:00:...|\n",
            "|         Sweden|              Söndag|              Söndag|         null|               SE|2020-12-06T00:00:...|\n",
            "|      Argentina|La Inmaculada Con...|La Inmaculada Con...|         null|               AR|2020-12-08T00:00:...|\n",
            "|        Austria|    Mariä Empfängnis|    Mariä Empfängnis|         null|               AT|2020-12-08T00:00:...|\n",
            "|       Colombia|La Inmaculada Con...|La Inmaculada Con...|         null|               CO|2020-12-08T00:00:...|\n",
            "|          Italy|Immacolata Concez...|Immacolata Concez...|         null|               IT|2020-12-08T00:00:...|\n",
            "|       Portugal| Imaculada Conceição| Imaculada Conceição|         null|               PT|2020-12-08T00:00:...|\n",
            "|          Spain|La Inmaculada Con...|La Inmaculada Con...|         null|               ES|2020-12-08T00:00:...|\n",
            "|         Norway|              Søndag|              Søndag|         null|               NO|2020-12-13T00:00:...|\n",
            "|         Sweden|              Söndag|              Söndag|         null|               SE|2020-12-13T00:00:...|\n",
            "|   South Africa|Day of Reconcilia...|Day of Reconcilia...|         null|               ZA|2020-12-16T00:00:...|\n",
            "|         Norway|              Søndag|              Søndag|         null|               NO|2020-12-20T00:00:...|\n",
            "|         Sweden|              Söndag|              Söndag|         null|               SE|2020-12-20T00:00:...|\n",
            "+---------------+--------------------+--------------------+-------------+-----------------+--------------------+\n",
            "only showing top 20 rows"
          ]
        }
      ],
      "execution_count": 18,
      "metadata": {}
    },
    {
      "cell_type": "markdown",
      "source": [
        "### Create an RDD from text file\n"
      ],
      "metadata": {}
    },
    {
      "cell_type": "code",
      "source": [
        "text = sc.textFile(text_path)\r\n",
        "print(text)"
      ],
      "outputs": [
        {
          "output_type": "display_data",
          "data": {
            "application/vnd.livy.statement-meta+json": {
              "spark_pool": "SampleSpark",
              "session_id": 18,
              "statement_id": 19,
              "state": "finished",
              "livy_statement_state": "available",
              "queued_time": "2021-05-26T03:04:17.2393981Z",
              "execution_start_time": "2021-05-26T03:04:17.3682097Z",
              "execution_finish_time": "2021-05-26T03:04:19.4345554Z"
            },
            "text/plain": "StatementMeta(SampleSpark, 18, 19, Finished, Available)"
          },
          "metadata": {}
        },
        {
          "output_type": "stream",
          "name": "stdout",
          "text": [
            "abfss://syn@synstorest.dfs.core.windows.net/University/holiday.txt MapPartitionsRDD[59] at textFile at NativeMethodAccessorImpl.java:0"
          ]
        }
      ],
      "execution_count": 19,
      "metadata": {}
    }
  ],
  "metadata": {
    "kernelspec": {
      "name": "synapse_pyspark",
      "language": "Python",
      "display_name": "Synapse PySpark"
    },
    "language_info": {
      "name": "python"
    },
    "kernel_info": {
      "name": "synapse_pyspark"
    },
    "save_output": true,
    "synapse_widget": {
      "version": "0.1",
      "state": {}
    }
  },
  "nbformat": 4,
  "nbformat_minor": 2
}