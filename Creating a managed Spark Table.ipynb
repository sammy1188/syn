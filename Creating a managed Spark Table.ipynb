{
  "cells": [
    {
      "cell_type": "markdown",
      "source": [
        "# Creating a managed Spark table\n",
        "This notebook describes how to create a managed table from Spark. \n",
        "The table is created in the Synapse warehouse folder in your primary storage account. The table will be synchronized and available in Synapse SQL Pools. \n"
      ],
      "metadata": {}
    },
    {
      "cell_type": "code",
      "source": [
        "sqlContext.sql('DROP TABLE cities') #-this works\r\n",
        "#spark.sql('DROP TABLE movies2') #-this also works"
      ],
      "outputs": [
        {
          "output_type": "display_data",
          "data": {
            "application/vnd.livy.statement-meta+json": {
              "spark_pool": "SampleSpark",
              "session_id": 22,
              "statement_id": 18,
              "state": "finished",
              "livy_statement_state": "available",
              "queued_time": "2021-05-26T05:43:37.5301492Z",
              "execution_start_time": "2021-05-26T05:43:37.6336398Z",
              "execution_finish_time": "2021-05-26T05:43:39.6930988Z"
            },
            "text/plain": "StatementMeta(SampleSpark, 22, 18, Finished, Available)"
          },
          "metadata": {}
        },
        {
          "output_type": "stream",
          "name": "stdout",
          "text": [
            "DataFrame[]"
          ]
        }
      ],
      "execution_count": 18,
      "metadata": {
        "collapsed": true,
        "jupyter": {
          "source_hidden": false,
          "outputs_hidden": false
        },
        "nteract": {
          "transient": {
            "deleting": false
          }
        }
      }
    },
    {
      "cell_type": "code",
      "source": [
        "# this gets created in the default(Spark) database\n",
        "spark.sql(\"CREATE TABLE cities  (name STRING, population INT) USING PARQUET\")\n"
      ],
      "outputs": [
        {
          "output_type": "display_data",
          "data": {
            "application/vnd.livy.statement-meta+json": {
              "spark_pool": "SampleSpark",
              "session_id": 22,
              "statement_id": 19,
              "state": "finished",
              "livy_statement_state": "available",
              "queued_time": "2021-05-26T05:43:37.5810786Z",
              "execution_start_time": "2021-05-26T05:43:39.7960718Z",
              "execution_finish_time": "2021-05-26T05:43:41.8629863Z"
            },
            "text/plain": "StatementMeta(SampleSpark, 22, 19, Finished, Available)"
          },
          "metadata": {}
        },
        {
          "output_type": "stream",
          "name": "stdout",
          "text": [
            "DataFrame[]"
          ]
        }
      ],
      "execution_count": 19,
      "metadata": {}
    },
    {
      "cell_type": "markdown",
      "source": [
        "Insert a few rows into the table using a list of values.\n"
      ],
      "metadata": {}
    },
    {
      "cell_type": "code",
      "source": [
        "spark.sql(\"INSERT INTO cities VALUES (\\'Seattle\\', 730400), (\\'San Francisco\\', 881549), (\\'Beijing\\', 21540000), (\\'Bangalore\\', 10540000)\")"
      ],
      "outputs": [
        {
          "output_type": "display_data",
          "data": {
            "application/vnd.livy.statement-meta+json": {
              "spark_pool": "SampleSpark",
              "session_id": 22,
              "statement_id": 20,
              "state": "finished",
              "livy_statement_state": "available",
              "queued_time": "2021-05-26T05:43:37.6291386Z",
              "execution_start_time": "2021-05-26T05:43:41.9773568Z",
              "execution_finish_time": "2021-05-26T05:43:44.04418Z"
            },
            "text/plain": "StatementMeta(SampleSpark, 22, 20, Finished, Available)"
          },
          "metadata": {}
        },
        {
          "output_type": "stream",
          "name": "stdout",
          "text": [
            "DataFrame[]"
          ]
        }
      ],
      "execution_count": 20,
      "metadata": {}
    },
    {
      "cell_type": "markdown",
      "source": [
        "* Retrieve values back. Click on 'Chart' below to review the visualization.\n"
      ],
      "metadata": {}
    },
    {
      "cell_type": "code",
      "source": [
        "display(spark.sql(\"SELECT * FROM cities ORDER BY name\"))"
      ],
      "outputs": [
        {
          "output_type": "display_data",
          "data": {
            "application/vnd.livy.statement-meta+json": {
              "spark_pool": "SampleSpark",
              "session_id": 22,
              "statement_id": 21,
              "state": "finished",
              "livy_statement_state": "available",
              "queued_time": "2021-05-26T05:43:37.6800434Z",
              "execution_start_time": "2021-05-26T05:43:44.1534917Z",
              "execution_finish_time": "2021-05-26T05:43:46.2212007Z"
            },
            "text/plain": "StatementMeta(SampleSpark, 22, 21, Finished, Available)"
          },
          "metadata": {}
        },
        {
          "output_type": "display_data",
          "data": {
            "application/vnd.synapse.widget-view+json": {
              "widget_id": "46ea656f-1294-49f9-82ad-598c58a4bef5",
              "widget_type": "Synapse.DataFrame"
            },
            "text/plain": "SynapseWidget(Synapse.DataFrame, 46ea656f-1294-49f9-82ad-598c58a4bef5)"
          },
          "metadata": {}
        },
        {
          "output_type": "execute_result",
          "execution_count": 21,
          "data": {},
          "metadata": {}
        }
      ],
      "execution_count": 21,
      "metadata": {
        "collapsed": false,
        "diagram": {
          "activateDiagramType": 1,
          "chartConfig": {
            "category": "bar",
            "keys": [
              "name"
            ],
            "values": [
              "population"
            ],
            "yLabel": "population",
            "xLabel": "name",
            "aggregation": "SUM",
            "aggByBackend": false
          },
          "aggData": "{\"population\":{\"Bangalore\":10540000,\"Beijing\":21540000,\"San Francisco\":881549,\"Seattle\":730400}}",
          "isSummary": false,
          "previewData": {
            "filter": null
          },
          "isSql": false
        }
      }
    },
    {
      "cell_type": "markdown",
      "source": [
        "Drop the table. Please note the data will get deleted from the primary storage account associated with this workspace.\n"
      ],
      "metadata": {}
    },
    {
      "cell_type": "code",
      "source": [
        "# spark.sql(\"DROP TABLE cities\")"
      ],
      "outputs": [
        {
          "output_type": "display_data",
          "data": {
            "application/vnd.livy.statement-meta+json": {
              "spark_pool": "SampleSpark",
              "session_id": 22,
              "statement_id": 22,
              "state": "finished",
              "livy_statement_state": "available",
              "queued_time": "2021-05-26T05:43:37.7729098Z",
              "execution_start_time": "2021-05-26T05:43:46.3137932Z",
              "execution_finish_time": "2021-05-26T05:43:48.3658154Z"
            },
            "text/plain": "StatementMeta(SampleSpark, 22, 22, Finished, Available)"
          },
          "metadata": {}
        },
        {
          "output_type": "stream",
          "name": "stdout",
          "text": []
        }
      ],
      "execution_count": 22,
      "metadata": {}
    }
  ],
  "metadata": {
    "kernelspec": {
      "name": "synapse_pyspark",
      "language": "Python",
      "display_name": "Synapse PySpark"
    },
    "language_info": {
      "name": "python"
    },
    "kernel_info": {
      "name": "synapse_pyspark"
    },
    "save_output": true,
    "synapse_widget": {
      "version": "0.1",
      "state": {
        "46ea656f-1294-49f9-82ad-598c58a4bef5": {
          "type": "Synapse.DataFrame",
          "sync_state": {
            "table": {
              "rows": [
                {
                  "name": "Bangalore",
                  "population": 10540000
                },
                {
                  "name": "Beijing",
                  "population": 21540000
                },
                {
                  "name": "San Francisco",
                  "population": 881549
                },
                {
                  "name": "Seattle",
                  "population": 730400
                }
              ],
              "schema": {
                "name": "string",
                "population": "int"
              }
            },
            "isSummary": false,
            "language": "scala"
          },
          "persist_state": {
            "view": {
              "type": "details",
              "tableOptions": {},
              "chartOptions": {
                "chartType": "bar",
                "aggregationType": "sum",
                "categoryFieldKeys": [
                  "name"
                ],
                "seriesFieldKeys": [
                  "population"
                ],
                "isStacked": false
              }
            }
          }
        }
      }
    }
  },
  "nbformat": 4,
  "nbformat_minor": 2
}