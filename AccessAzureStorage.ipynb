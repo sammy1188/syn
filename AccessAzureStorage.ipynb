{
    "metadata": {
        "kernelspec": {
            "name": "synapse_pyspark",
            "language": "Python",
            "display_name": "Synapse PySpark"
        },
        "language_info": {
            "name": "python"
        },
        "kernel_info": {
            "name": "synapse_pyspark"
        },
        "save_output": true,
        "synapse_widget": {
            "version": "0.1",
            "state": {
                "8b8f5c90-7ad5-483a-a70f-6cf80ee252ff": {
                    "type": "Synapse.DataFrame",
                    "sync_state": {
                        "table": {
                            "rows": [
                                {
                                    "size": "null",
                                    "model": "\"Spectre x360 2-in-1 13.3\"\" 4K Ultra HD Touch-Screen Laptop\"",
                                    "price": "1499.98999",
                                    "brand": "HP",
                                    "processor": "null",
                                    "product_id": "1",
                                    "category": "Laptops ",
                                    "display": "null"
                                },
                                {
                                    "size": "null",
                                    "model": "Surface Pro – 12.3\"\"",
                                    "price": "1299.98999",
                                    "brand": "Microsoft",
                                    "processor": "null",
                                    "product_id": "2",
                                    "category": "Laptops ",
                                    "display": "null"
                                },
                                {
                                    "size": "null",
                                    "model": "Surface Book 2 - 13.5\"\"",
                                    "price": "1499.98999",
                                    "brand": "Microsoft",
                                    "processor": "null",
                                    "product_id": "3",
                                    "category": "Laptops ",
                                    "display": "null"
                                },
                                {
                                    "size": "null",
                                    "model": "XPS 2-in-1 13.3\"\"",
                                    "price": "1949.98999",
                                    "brand": "Dell",
                                    "processor": "null",
                                    "product_id": "4",
                                    "category": "Laptops ",
                                    "display": "null"
                                },
                                {
                                    "size": "null",
                                    "model": "Yoga 920 2-in-1 13.9\"\"",
                                    "price": "1799.98999",
                                    "brand": "Lenovo",
                                    "processor": "null",
                                    "product_id": "5",
                                    "category": "Laptops ",
                                    "display": "null"
                                },
                                {
                                    "size": "null",
                                    "model": "\"MacBook Pro - 15\"\" Display\"",
                                    "price": "2659.98999",
                                    "brand": "Apple ",
                                    "processor": "null",
                                    "product_id": "6",
                                    "category": "Laptops ",
                                    "display": "null"
                                },
                                {
                                    "size": "null",
                                    "model": "\"MacBook Pro - 13\"\" Display\"",
                                    "price": "1499.98999",
                                    "brand": "Apple ",
                                    "processor": "null",
                                    "product_id": "7",
                                    "category": "Laptops ",
                                    "display": "null"
                                },
                                {
                                    "size": "null",
                                    "model": "\"MacBook Pro - 15.4\"\" Display\"",
                                    "price": "1999.98999",
                                    "brand": "Apple ",
                                    "processor": "null",
                                    "product_id": "8",
                                    "category": "Laptops ",
                                    "display": "null"
                                },
                                {
                                    "size": "null",
                                    "model": "\"MacBook Air - 13.3\"\" Display\"",
                                    "price": "999.9899902",
                                    "brand": "Apple ",
                                    "processor": "null",
                                    "product_id": "9",
                                    "category": "Laptops ",
                                    "display": "null"
                                },
                                {
                                    "size": "null",
                                    "model": "\"Pavilion x360 2-in-1 14\"\" Touch-Screen Laptop\"",
                                    "price": "999.9899902",
                                    "brand": "HP",
                                    "processor": "null",
                                    "product_id": "10",
                                    "category": "Laptops ",
                                    "display": "null"
                                }
                            ],
                            "schema": {
                                "product_id": "string",
                                "category": "string",
                                "brand": "string",
                                "model": "string",
                                "price": "string",
                                "processor": "string",
                                "size": "string",
                                "display": "string"
                            }
                        },
                        "isSummary": false,
                        "language": "scala"
                    },
                    "persist_state": {
                        "view": {
                            "type": "details",
                            "tableOptions": {},
                            "chartOptions": {
                                "chartType": "bar",
                                "aggregationType": "count",
                                "categoryFieldKeys": [
                                    "product_id"
                                ],
                                "seriesFieldKeys": [
                                    "product_id"
                                ],
                                "isStacked": false
                            }
                        }
                    }
                }
            }
        }
    },
    "nbformat_minor": 2,
    "nbformat": 4,
    "cells": [
        {
            "cell_type": "code",
            "source": [
                "#blob text file path: wasbs://container01@bdbjblobstorageqingtest.blob.core.windows.net/samplenb/holiday1.txt\r\n",
                "csv_path=\"wasbs://samhd-2020-06-05t05-43-49-386z@samhdhdistorage.blob.core.windows.net/movie.csv\"\r\n",
                "df_movies = spark.read.csv(csv_path, header = 'true')\r\n",
                "df_movies.show()\r\n"
            ],
            "metadata": {
                "collapsed": true,
                "jupyter": {
                    "source_hidden": false,
                    "outputs_hidden": false
                },
                "nteract": {
                    "transient": {
                        "deleting": false
                    }
                },
                "azdata_cell_guid": "bdab8f56-a380-4c03-8e4e-0c1eb726d971"
            },
            "outputs": [
                {
                    "output_type": "display_data",
                    "data": {
                        "application/vnd.livy.statement-meta+json": {
                            "spark_pool": "SampleSpark",
                            "session_id": 4,
                            "statement_id": 7,
                            "state": "finished",
                            "livy_statement_state": "available",
                            "queued_time": "2021-05-07T08:23:36.8108351Z",
                            "execution_start_time": "2021-05-07T08:23:36.918784Z",
                            "execution_finish_time": "2021-05-07T08:23:43.114558Z"
                        },
                        "text/plain": "StatementMeta(SampleSpark, 4, 7, Finished, Available)"
                    },
                    "metadata": {}
                },
                {
                    "output_type": "stream",
                    "name": "stdout",
                    "text": "+--------------------+-----------+--------------------+------+\n|               Title|ReleaseDate|            Comments|Rating|\n+--------------------+-----------+--------------------+------+\n|    Star Trek Beyond|  7/22/2016|            must see| PG-13|\n|        Jason Bourne|  7/29/2016|                null| PG-13|\n|        Patient Zero|   9/2/2016|              Horror|    NR|\n|The Magnificent S...|  9/23/2016|               PG-13|  null|\n|      Doctor Strange|  11/4/2016|              Marvel|    NR|\n|Fantastic Beasts ...| 11/18/2016|Harry Potter related|    NR|\n|           Rogue One| 12/16/2016|           Star Wars|    NR|\n|      The Dark Tower|  2/17/2017|        Stephen King|    NR|\n|  Ghost in the Shell|  3/31/2017|               SciFi|    NR|\n|            Spectral|  8/12/2016|Supernatural thri...| PG-13|\n|The Space Between Us|  8/19/2016|     space adventure| PG-13|\n|Miss Peregrine's ...|  9/30/2016|          Tim Burton| PG-13|\n|             Arrival| 11/11/2016|              sci-fi|    NR|\n|               Moana| 11/25/2016|     Disney animated|    NR|\n|          Passengers| 12/21/2016|              sci-fi|    NR|\n|    Assassin's Creed| 12/23/2016|                null|    NR|\n|                Sing| 12/23/2016|            animated|    NR|\n|John Wick: Chapte...|  2/10/2017|                null|    NR|\n|        Wonder Woman|   6/2/2017|          comic book|    NR|\n|      Justice League| 11/17/2017|                null|    NR|\n+--------------------+-----------+--------------------+------+"
                }
            ],
            "execution_count": 9
        },
        {
            "cell_type": "code",
            "source": [
                "df_movies.write.saveAsTable(\"Movies2\")"
            ],
            "metadata": {
                "collapsed": true,
                "jupyter": {
                    "source_hidden": false,
                    "outputs_hidden": false
                },
                "nteract": {
                    "transient": {
                        "deleting": false
                    }
                },
                "azdata_cell_guid": "ffcfb4f7-01d1-4f7d-af63-d1d5aadc4c70"
            },
            "outputs": [
                {
                    "output_type": "display_data",
                    "data": {
                        "application/vnd.livy.statement-meta+json": {
                            "spark_pool": "SampleSpark",
                            "session_id": 4,
                            "statement_id": 9,
                            "state": "finished",
                            "livy_statement_state": "available",
                            "queued_time": "2021-05-07T08:23:59.6029894Z",
                            "execution_start_time": "2021-05-07T08:23:59.7201669Z",
                            "execution_finish_time": "2021-05-07T08:24:03.8530845Z"
                        },
                        "text/plain": "StatementMeta(SampleSpark, 4, 9, Finished, Available)"
                    },
                    "metadata": {}
                },
                {
                    "output_type": "stream",
                    "name": "stdout",
                    "text": ""
                }
            ],
            "execution_count": 11
        },
        {
            "cell_type": "code",
            "source": [
                " \r\n",
                "df = spark.sql(\"show tables\")\r\n",
                "df.show(3)\r\n",
                "df = spark.sql(\"Select * from default.movies2\")\r\n",
                "df.show(3)\r\n",
                " "
            ],
            "metadata": {
                "collapsed": true,
                "jupyter": {
                    "source_hidden": false,
                    "outputs_hidden": false
                },
                "nteract": {
                    "transient": {
                        "deleting": false
                    }
                },
                "microsoft": {},
                "azdata_cell_guid": "947ddf62-9795-403c-9f9c-7fd07f26200e"
            },
            "outputs": [
                {
                    "output_type": "display_data",
                    "data": {
                        "application/vnd.livy.statement-meta+json": {
                            "spark_pool": "SampleSpark",
                            "session_id": 4,
                            "statement_id": 23,
                            "state": "finished",
                            "livy_statement_state": "available",
                            "queued_time": "2021-05-07T08:58:36.9090447Z",
                            "execution_start_time": "2021-05-07T08:58:37.0093762Z",
                            "execution_finish_time": "2021-05-07T08:58:39.0735573Z"
                        },
                        "text/plain": "StatementMeta(SampleSpark, 4, 23, Finished, Available)"
                    },
                    "metadata": {}
                },
                {
                    "output_type": "stream",
                    "name": "stdout",
                    "text": "+--------+---------+-----------+\n|database|tableName|isTemporary|\n+--------+---------+-----------+\n| default|   cities|      false|\n| default|  cities2|      false|\n| default|   movies|      false|\n+--------+---------+-----------+\nonly showing top 3 rows\n\n+----------------+-----------+--------+------+\n|           Title|ReleaseDate|Comments|Rating|\n+----------------+-----------+--------+------+\n|Star Trek Beyond|  7/22/2016|must see| PG-13|\n|    Jason Bourne|  7/29/2016|    null| PG-13|\n|    Patient Zero|   9/2/2016|  Horror|    NR|\n+----------------+-----------+--------+------+\nonly showing top 3 rows"
                }
            ],
            "execution_count": 25
        },
        {
            "cell_type": "code",
            "source": [
                "df = df.repartition(1) # This ensure we'll get a single file during write()\r\n",
                "df.write.mode(\"overwrite\").csv(\"/University/uni_csvformat\")\r\n",
                "df.write.mode(\"overwrite\").parquet(\"/University/uni_parquetformat\")"
            ],
            "metadata": {
                "collapsed": true,
                "jupyter": {
                    "source_hidden": false,
                    "outputs_hidden": false
                },
                "nteract": {
                    "transient": {
                        "deleting": false
                    }
                },
                "azdata_cell_guid": "fcd99e20-c43c-4d00-abf6-5f95ee2258a7"
            },
            "outputs": [
                {
                    "output_type": "display_data",
                    "data": {
                        "application/vnd.livy.statement-meta+json": {
                            "spark_pool": "SampleSpark",
                            "session_id": 4,
                            "statement_id": 26,
                            "state": "finished",
                            "livy_statement_state": "available",
                            "queued_time": "2021-05-07T09:01:51.6775531Z",
                            "execution_start_time": "2021-05-07T09:01:51.7950241Z",
                            "execution_finish_time": "2021-05-07T09:01:55.9222692Z"
                        },
                        "text/plain": "StatementMeta(SampleSpark, 4, 26, Finished, Available)"
                    },
                    "metadata": {}
                },
                {
                    "output_type": "stream",
                    "name": "stdout",
                    "text": ""
                }
            ],
            "execution_count": 28
        },
        {
            "cell_type": "markdown",
            "source": [
                "SELECT\r\n",
                "    TOP 100 *\r\n",
                "FROM\r\n",
                "    OPENROWSET(\r\n",
                "        BULK 'https://synstorest.dfs.core.windows.net/syn/University/uni_parquetformat/part-00000-2cb73109-1d80-4fbd-9400-8458f732e59e-c000.snappy.parquet',\r\n",
                "        FORMAT='PARQUET'\r\n",
                "    ) AS [result]\r\n"
            ],
            "metadata": {
                "nteract": {
                    "transient": {
                        "deleting": false
                    }
                },
                "azdata_cell_guid": "b3ea1614-6427-4dad-b861-8894113cd304"
            }
        },
        {
            "cell_type": "markdown",
            "source": [
                "https://docs.microsoft.com/en-us/azure/synapse-analytics/get-started-analyze-storage"
            ],
            "metadata": {
                "nteract": {
                    "transient": {
                        "deleting": false
                    }
                },
                "azdata_cell_guid": "757307f8-9caf-4a69-a1e2-fce2bf75b4b3"
            }
        },
        {
            "cell_type": "markdown",
            "source": [],
            "metadata": {
                "nteract": {
                    "transient": {
                        "deleting": false
                    }
                },
                "azdata_cell_guid": "d364d45f-f4c4-45f8-8604-ab37b8800ed1"
            }
        },
        {
            "cell_type": "code",
            "source": [
                "#gen 2  csv file path: abfss://zhaotest@bdbjtestgen2.dfs.core.windows.net/testholiday.csv\r\n",
                "csv_path=\"abfss://syn@synstorest.dfs.core.windows.net/timesData.csv\"\r\n",
                "df_University= spark.read.csv(csv_path, header = 'true')\r\n",
                "df_University.show()\r\n"
            ],
            "metadata": {
                "azdata_cell_guid": "f422ebc3-25da-4e0e-a036-2703a6a3ee95"
            },
            "outputs": [
                {
                    "output_type": "display_data",
                    "data": {
                        "application/vnd.livy.statement-meta+json": {
                            "spark_pool": "SampleSpark",
                            "session_id": 4,
                            "statement_id": 10,
                            "state": "finished",
                            "livy_statement_state": "available",
                            "queued_time": "2021-05-07T08:24:08.5570347Z",
                            "execution_start_time": "2021-05-07T08:24:08.6697946Z",
                            "execution_finish_time": "2021-05-07T08:24:14.854621Z"
                        },
                        "text/plain": "StatementMeta(SampleSpark, 4, 10, Finished, Available)"
                    },
                    "metadata": {}
                },
                {
                    "output_type": "stream",
                    "name": "stdout",
                    "text": "+----------+--------------------+--------------------+--------+-------------+--------+---------+------+-----------+------------+-------------------+----------------------+-----------------+----+\n|world_rank|     university_name|             country|teaching|international|research|citations|income|total_score|num_students|student_staff_ratio|international_students|female_male_ratio|year|\n+----------+--------------------+--------------------+--------+-------------+--------+---------+------+-----------+------------+-------------------+----------------------+-----------------+----+\n|         1|  Harvard University|United States of ...|    99.7|         72.4|    98.7|     98.8|  34.5|       96.1|      20,152|                8.9|                   25%|             null|2011|\n|         2|California Instit...|United States of ...|    97.7|         54.6|    98.0|     99.9|  83.7|       96.0|       2,243|                6.9|                   27%|          33 : 67|2011|\n|         3|Massachusetts Ins...|United States of ...|    97.8|         82.3|    91.4|     99.9|  87.5|       95.6|      11,074|                  9|                   33%|          37 : 63|2011|\n|         4| Stanford University|United States of ...|    98.3|         29.5|    98.1|     99.2|  64.3|       94.3|      15,596|                7.8|                   22%|          42 : 58|2011|\n|         5|Princeton University|United States of ...|    90.9|         70.3|    95.4|     99.9|     -|       94.2|       7,929|                8.4|                   27%|          45 : 55|2011|\n|         6|University of Cam...|      United Kingdom|    90.5|         77.7|    94.1|     94.0|  57.0|       91.2|      18,812|               11.8|                   34%|          46 : 54|2011|\n|         6|University of Oxford|      United Kingdom|    88.2|         77.2|    93.9|     95.1|  73.5|       91.2|      19,919|               11.6|                   34%|          46 : 54|2011|\n|         8|University of Cal...|United States of ...|    84.2|         39.6|    99.3|     97.8|     -|       91.1|      36,186|               16.4|                   15%|          50 : 50|2011|\n|         9|Imperial College ...|      United Kingdom|    89.2|         90.0|    94.5|     88.3|  92.9|       90.6|      15,060|               11.7|                   51%|          37 : 63|2011|\n|        10|     Yale University|United States of ...|    92.1|         59.2|    89.7|     91.5|     -|       89.5|      11,751|                4.4|                   20%|          50 : 50|2011|\n|        11|University of Cal...|United States of ...|    83.0|         48.1|    92.9|     93.2|     -|       87.7|      38,206|               10.3|                   15%|          52 : 48|2011|\n|        12|University of Chi...|United States of ...|    79.1|         62.8|    87.9|     96.9|     -|       86.9|      14,221|                6.9|                   21%|          42 : 58|2011|\n|        13|Johns Hopkins Uni...|United States of ...|    80.9|         58.5|    89.2|     92.3| 100.0|       86.4|      15,128|                3.6|                   23%|          50 : 50|2011|\n|        14|  Cornell University|United States of ...|    82.2|         62.4|    88.8|     88.1|  34.7|       83.9|      21,424|               10.2|                   19%|          48 : 52|2011|\n|        15|ETH Zurich – Swis...|         Switzerland|    77.5|         93.7|    87.8|     83.1|     -|       83.4|      18,178|               14.7|                   37%|          31 : 69|2011|\n|        15|University of Mic...|United States of ...|    83.9|         53.3|    89.1|     84.1|  59.6|       83.4|      41,786|                  9|                   16%|          48 : 52|2011|\n|        17|University of Tor...|              Canada|    75.8|            -|    87.9|     82.2|     -|       82.0|      66,198|               19.5|                   15%|             null|2011|\n|        18| Columbia University|United States of ...|    73.8|         90.9|    73.8|     92.6|     -|       81.0|      25,055|                5.9|                   28%|             null|2011|\n|        19|University of Pen...|United States of ...|    71.8|         32.9|    82.7|     93.6|  43.7|       79.5|      20,376|                6.5|                   20%|          51 : 49|2011|\n|        20|Carnegie Mellon U...|United States of ...|    70.3|         39.1|    79.3|     95.7|  53.7|       79.3|      11,885|               13.1|                   35%|          39 : 61|2011|\n+----------+--------------------+--------------------+--------+-------------+--------+---------+------+-----------+------------+-------------------+----------------------+-----------------+----+\nonly showing top 20 rows"
                }
            ],
            "execution_count": 12
        },
        {
            "cell_type": "code",
            "source": [
                "df_University.write.saveAsTable(\"Universities\")"
            ],
            "metadata": {
                "collapsed": true,
                "jupyter": {
                    "source_hidden": false,
                    "outputs_hidden": false
                },
                "nteract": {
                    "transient": {
                        "deleting": false
                    }
                },
                "azdata_cell_guid": "e0377e4c-3ec6-4820-b987-3bbd19a54804"
            },
            "outputs": [
                {
                    "output_type": "display_data",
                    "data": {
                        "application/vnd.livy.statement-meta+json": {
                            "spark_pool": "SampleSpark",
                            "session_id": 4,
                            "statement_id": 12,
                            "state": "finished",
                            "livy_statement_state": "available",
                            "queued_time": "2021-05-07T08:24:35.2874984Z",
                            "execution_start_time": "2021-05-07T08:24:35.3900385Z",
                            "execution_finish_time": "2021-05-07T08:24:37.4607326Z"
                        },
                        "text/plain": "StatementMeta(SampleSpark, 4, 12, Finished, Available)"
                    },
                    "metadata": {}
                },
                {
                    "output_type": "stream",
                    "name": "stdout",
                    "text": ""
                }
            ],
            "execution_count": 14
        },
        {
            "cell_type": "code",
            "source": [
                "%%pyspark\r\n",
                "blob_account_name = \"samdbblob\"\r\n",
                "blob_container_name = \"myblob\"\r\n",
                "from pyspark.sql import SparkSession\r\n",
                "\r\n",
                "sc = SparkSession.builder.getOrCreate()\r\n",
                "token_library = sc._jvm.com.microsoft.azure.synapse.tokenlibrary.TokenLibrary\r\n",
                "blob_sas_token = token_library.getConnectionString(\"AzureBlobStorage1\")\r\n",
                "\r\n",
                "spark.conf.set(\r\n",
                "    'fs.azure.sas.%s.%s.blob.core.windows.net' % (blob_container_name, blob_account_name),\r\n",
                "    blob_sas_token)\r\n",
                "df = spark.read.load('wasbs://myblob@samdbblob.blob.core.windows.net/Product.csv', format='csv'\r\n",
                "## If header exists uncomment line below\r\n",
                ", header=True\r\n",
                ")\r\n",
                "display(df.limit(10))"
            ],
            "metadata": {
                "collapsed": false,
                "jupyter": {
                    "source_hidden": false,
                    "outputs_hidden": false
                },
                "nteract": {
                    "transient": {
                        "deleting": false
                    }
                },
                "microsoft": {
                    "language": "python"
                },
                "azdata_cell_guid": "321a88bc-a8f9-4d2b-a979-89a1615ae730"
            },
            "outputs": [
                {
                    "output_type": "display_data",
                    "data": {
                        "application/vnd.livy.statement-meta+json": {
                            "spark_pool": "SampleSpark",
                            "session_id": 4,
                            "statement_id": 28,
                            "state": "finished",
                            "livy_statement_state": "available",
                            "queued_time": "2021-05-07T09:15:23.3503643Z",
                            "execution_start_time": "2021-05-07T09:15:23.5174706Z",
                            "execution_finish_time": "2021-05-07T09:15:29.7288633Z"
                        },
                        "text/plain": "StatementMeta(SampleSpark, 4, 28, Finished, Available)"
                    },
                    "metadata": {}
                },
                {
                    "output_type": "display_data",
                    "data": {
                        "application/vnd.synapse.widget-view+json": {
                            "widget_id": "8b8f5c90-7ad5-483a-a70f-6cf80ee252ff",
                            "widget_type": "Synapse.DataFrame"
                        },
                        "text/plain": "SynapseWidget(Synapse.DataFrame, 8b8f5c90-7ad5-483a-a70f-6cf80ee252ff)"
                    },
                    "metadata": {}
                },
                {
                    "output_type": "execute_result",
                    "execution_count": 30,
                    "data": {},
                    "metadata": {}
                }
            ],
            "execution_count": 30
        }
    ]
}